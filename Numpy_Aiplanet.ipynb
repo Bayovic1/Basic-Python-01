{
  "cells": [
    {
      "cell_type": "code",
      "execution_count": null,
      "metadata": {
        "colab": {
          "base_uri": "https://localhost:8080/"
        },
        "id": "UCWsVzti8ONd",
        "outputId": "31bbc8c1-9470-4ddf-e7d5-efd4302426d7"
      },
      "outputs": [
        {
          "data": {
            "text/plain": [
              "(2, 3)"
            ]
          },
          "execution_count": 3,
          "metadata": {},
          "output_type": "execute_result"
        }
      ],
      "source": [
        "import numpy as np\n",
        "a = np.array ([[1,2,3], [4,5,6]])\n",
        "a.shape\n"
      ]
    },
    {
      "cell_type": "code",
      "execution_count": null,
      "metadata": {
        "colab": {
          "base_uri": "https://localhost:8080/"
        },
        "id": "q0JMZU8e8pJE",
        "outputId": "dca3203a-591b-4f5c-d117-983742892399"
      },
      "outputs": [
        {
          "data": {
            "text/plain": [
              "array([ 2,  4,  6,  8, 10])"
            ]
          },
          "execution_count": 8,
          "metadata": {},
          "output_type": "execute_result"
        }
      ],
      "source": [
        "# Initialize a Python list\n",
        "python_list = [2, 4, 6, 8, 10]\n",
        "python_list\n",
        "\n",
        "# Import numpy Library\n",
        "import numpy as np\n",
        "\n",
        "# Converting the python_list to a numpy array\n",
        "numpy_array1 = np.array (python_list)\n",
        "\n",
        "# Displays the numpy array\n",
        "numpy_array1"
      ]
    },
    {
      "cell_type": "code",
      "execution_count": null,
      "metadata": {
        "colab": {
          "base_uri": "https://localhost:8080/"
        },
        "id": "4v2D4uWmFD_C",
        "outputId": "e9ffa381-da98-4b67-c6e6-790cd6c8f5f6"
      },
      "outputs": [
        {
          "name": "stdout",
          "output_type": "stream",
          "text": [
            "(3, 4)\n"
          ]
        },
        {
          "data": {
            "text/plain": [
              "array([[1, 2, 3, 4],\n",
              "       [2, 3, 4, 5],\n",
              "       [9, 8, 7, 6]])"
            ]
          },
          "execution_count": 13,
          "metadata": {},
          "output_type": "execute_result"
        }
      ],
      "source": [
        "array_1 = np.array([[1,2,3,4], [2,3,4,5], [9,8,7,6]]) #Creating Array\n",
        "print(array_1.shape)\n",
        "array_1"
      ]
    },
    {
      "cell_type": "code",
      "execution_count": null,
      "metadata": {
        "id": "qFRVecQuGHqw"
      },
      "outputs": [],
      "source": [
        "# Create two python List say 'List_x' and 'List_your'\n",
        "X_list = list(range(100000))\n",
        "Y_list = list(range(100000))\n",
        "\n",
        "# Import numpy Library\n",
        "import numpy as np\n",
        "# Create two numpy array (say 'X' and 'Y') using above two list\n",
        "X = np.array(X_list)\n",
        "Y = np.array(Y_list)\n",
        "\n",
        "\n",
        "\n",
        "\n",
        "\n",
        "\n"
      ]
    },
    {
      "cell_type": "code",
      "execution_count": null,
      "metadata": {
        "id": "QOKZ0ILmLb1p"
      },
      "outputs": [],
      "source": [
        "# Create two python List say 'List_x' and 'List_your'\n",
        "X_list = list(range(100000))\n",
        "Y_list = list(range(100000))\n",
        "\n",
        "\n",
        "# Import numpy Library\n",
        "import numpy as np\n",
        "# Create two numpy array (say 'X' and 'Y') using above two list\n",
        "X = np.array(X_list)\n",
        "Y = np.array(Y_list)\n",
        "\n",
        "# Define a function to calculate sum\n",
        "# using numpy arrays (X, Y)\n",
        "def numpy_version():\n",
        "# In numpy we can directly perform\n",
        "# sum element-wise as\n",
        "    Z = X + Y\n"
      ]
    },
    {
      "cell_type": "code",
      "execution_count": null,
      "metadata": {
        "colab": {
          "base_uri": "https://localhost:8080/"
        },
        "id": "fQJ46CVWMBJV",
        "outputId": "d008232d-dbab-4ba9-bc79-0a2aa52d1425"
      },
      "outputs": [
        {
          "data": {
            "text/plain": [
              "array([[ 5,  6,  7],\n",
              "       [ 8,  9, 10],\n",
              "       [11, 12, 13],\n",
              "       [ 1,  2,  3]])"
            ]
          },
          "execution_count": 7,
          "metadata": {},
          "output_type": "execute_result"
        }
      ],
      "source": [
        "#creating Array by importing Numpy\n",
        "import numpy as np\n",
        "arr = np.array([[5,6,7], [8,9,10], [11,12,13], [1,2,3]])\n",
        "arr"
      ]
    },
    {
      "cell_type": "code",
      "execution_count": null,
      "metadata": {
        "colab": {
          "base_uri": "https://localhost:8080/"
        },
        "id": "M1yGZXU1WgXz",
        "outputId": "fbc75bb4-cc01-4200-9c45-3e948002e1de"
      },
      "outputs": [
        {
          "data": {
            "text/plain": [
              "12"
            ]
          },
          "execution_count": 5,
          "metadata": {},
          "output_type": "execute_result"
        }
      ],
      "source": [
        "#Size the Array\n",
        "arr.size"
      ]
    },
    {
      "cell_type": "code",
      "execution_count": null,
      "metadata": {
        "colab": {
          "base_uri": "https://localhost:8080/"
        },
        "id": "b2owiomYYRdR",
        "outputId": "7a8b1425-a7f0-4ad2-fad9-c116c47dcb6b"
      },
      "outputs": [
        {
          "data": {
            "text/plain": [
              "dtype('int64')"
            ]
          },
          "execution_count": 8,
          "metadata": {},
          "output_type": "execute_result"
        }
      ],
      "source": [
        "arr.dtype"
      ]
    },
    {
      "cell_type": "code",
      "execution_count": null,
      "metadata": {
        "colab": {
          "base_uri": "https://localhost:8080/"
        },
        "id": "nnzGxsiQZP_-",
        "outputId": "d4039eaa-9f9d-47b6-f754-ca701edf3861"
      },
      "outputs": [
        {
          "data": {
            "text/plain": [
              "dtype('<U4')"
            ]
          },
          "execution_count": 11,
          "metadata": {},
          "output_type": "execute_result"
        }
      ],
      "source": [
        "ary = np.array([[\"Ade\", \"joel\"], [\"fola\", \"tola\"] ])\n",
        "ary\n",
        "type(ary)\n",
        "ary.dtype"
      ]
    },
    {
      "cell_type": "code",
      "execution_count": null,
      "metadata": {
        "colab": {
          "base_uri": "https://localhost:8080/"
        },
        "id": "vQXS8ak6b369",
        "outputId": "370adee3-7faa-47b4-e2b4-722eb22b59f6"
      },
      "outputs": [
        {
          "data": {
            "text/plain": [
              "array([ 0,  1,  2,  3,  4,  5,  6,  7,  8,  9, 10])"
            ]
          },
          "execution_count": 14,
          "metadata": {},
          "output_type": "execute_result"
        }
      ],
      "source": [
        "#creation of continuous integer\n",
        "array = np.arange(11)\n",
        "array"
      ]
    },
    {
      "cell_type": "code",
      "execution_count": null,
      "metadata": {
        "colab": {
          "base_uri": "https://localhost:8080/"
        },
        "id": "5NXAYkutke-I",
        "outputId": "c611c6b6-3aa8-4c84-cd43-2f38890a7eef"
      },
      "outputs": [
        {
          "name": "stdout",
          "output_type": "stream",
          "text": [
            "[0. 0. 0. 0. 0.]\n"
          ]
        },
        {
          "data": {
            "text/plain": [
              "array([1., 1., 1., 1., 1.])"
            ]
          },
          "execution_count": 22,
          "metadata": {},
          "output_type": "execute_result"
        }
      ],
      "source": [
        "#creation of collections of zero and one\n",
        "\n",
        "arr = np.zeros(5)\n",
        "print(np.array(arr))\n",
        "aray = np.ones(5)\n",
        "aray"
      ]
    },
    {
      "cell_type": "code",
      "execution_count": null,
      "metadata": {
        "colab": {
          "base_uri": "https://localhost:8080/"
        },
        "id": "nlPS1dEdmU5Z",
        "outputId": "eb96e684-5e99-4939-e8a6-0ba6be64717c"
      },
      "outputs": [
        {
          "data": {
            "text/plain": [
              "array([ 2. ,  5.6,  9.2, 12.8, 16.4, 20. ])"
            ]
          },
          "execution_count": 25,
          "metadata": {},
          "output_type": "execute_result"
        }
      ],
      "source": [
        "#linspace, it create equally space from each value\n",
        "arr = np.linspace(start=2, stop=20, num=6)\n",
        "arr"
      ]
    },
    {
      "cell_type": "code",
      "execution_count": null,
      "metadata": {
        "colab": {
          "base_uri": "https://localhost:8080/"
        },
        "id": "fbeEBlPlraGO",
        "outputId": "871b9227-8ddd-4e8d-dd44-cbe6f9281b85"
      },
      "outputs": [
        {
          "data": {
            "text/plain": [
              "array([ 2,  5,  8,  6,  4, 12, 16, 15])"
            ]
          },
          "execution_count": 27,
          "metadata": {},
          "output_type": "execute_result"
        }
      ],
      "source": [
        "list = [2, 5, 8, 6, 4, 12, 16, 15] #Challenge Coding Ai Planet\n",
        "np.array(list)"
      ]
    },
    {
      "cell_type": "code",
      "execution_count": null,
      "metadata": {
        "colab": {
          "base_uri": "https://localhost:8080/"
        },
        "id": "1b69xF8Iugaf",
        "outputId": "c0318248-5270-4dc5-947e-d4c461a720e9"
      },
      "outputs": [
        {
          "data": {
            "text/plain": [
              "array([17.        , 17.28571429, 17.57142857, 17.85714286, 18.14285714,\n",
              "       18.42857143, 18.71428571, 19.        , 19.28571429, 19.57142857,\n",
              "       19.85714286, 20.14285714, 20.42857143, 20.71428571, 21.        ,\n",
              "       21.28571429, 21.57142857, 21.85714286, 22.14285714, 22.42857143,\n",
              "       22.71428571, 23.        , 23.28571429, 23.57142857, 23.85714286,\n",
              "       24.14285714, 24.42857143, 24.71428571, 25.        , 25.28571429,\n",
              "       25.57142857, 25.85714286, 26.14285714, 26.42857143, 26.71428571,\n",
              "       27.        , 27.28571429, 27.57142857, 27.85714286, 28.14285714,\n",
              "       28.42857143, 28.71428571, 29.        , 29.28571429, 29.57142857,\n",
              "       29.85714286, 30.14285714, 30.42857143, 30.71428571, 31.        ])"
            ]
          },
          "execution_count": 28,
          "metadata": {},
          "output_type": "execute_result"
        }
      ],
      "source": [
        "np.linspace(start=17, stop=31, num=50)\n"
      ]
    },
    {
      "cell_type": "code",
      "execution_count": null,
      "metadata": {
        "colab": {
          "base_uri": "https://localhost:8080/"
        },
        "id": "cLYBLhdVvNJh",
        "outputId": "e2ac1bbc-6156-4805-b2b9-6889114487f4"
      },
      "outputs": [
        {
          "data": {
            "text/plain": [
              "array([[[1, 2, 3],\n",
              "        [4, 5, 6]],\n",
              "\n",
              "       [[1, 2, 3],\n",
              "        [4, 5, 6]]])"
            ]
          },
          "execution_count": 3,
          "metadata": {},
          "output_type": "execute_result"
        }
      ],
      "source": [
        "import numpy as np\n",
        "d = np.array([[[1, 2, 3], [4, 5, 6]], [[1, 2, 3], [4, 5, 6]]])\n",
        "d.ndim\n",
        "d"
      ]
    },
    {
      "cell_type": "code",
      "execution_count": null,
      "metadata": {
        "colab": {
          "base_uri": "https://localhost:8080/"
        },
        "id": "sTKO3caKLDT8",
        "outputId": "4080b4e8-ce91-4c20-c896-0db9b052c188"
      },
      "outputs": [
        {
          "name": "stdout",
          "output_type": "stream",
          "text": [
            "[[0. 0. 0.]\n",
            " [0. 0. 0.]\n",
            " [0. 0. 0.]\n",
            " [0. 0. 0.]]\n",
            " \n"
          ]
        },
        {
          "data": {
            "text/plain": [
              "array([[0., 0.],\n",
              "       [0., 0.],\n",
              "       [0., 0.]])"
            ]
          },
          "execution_count": 10,
          "metadata": {},
          "output_type": "execute_result"
        }
      ],
      "source": [
        "#creating Zeros with shapes\n",
        "x = np.zeros(shape=(4,3))\n",
        "print(x)\n",
        "print(\" \")\n",
        "#creating Zeros with shapes\n",
        "y = np.zeros(shape=(3,2))\n",
        "y"
      ]
    },
    {
      "cell_type": "code",
      "execution_count": null,
      "metadata": {
        "colab": {
          "base_uri": "https://localhost:8080/"
        },
        "id": "hTfdJdlONfJO",
        "outputId": "fc045ce6-3d49-48f8-d50e-3affb767aee3"
      },
      "outputs": [
        {
          "data": {
            "text/plain": [
              "array([[1., 1., 1.],\n",
              "       [1., 1., 1.],\n",
              "       [1., 1., 1.],\n",
              "       [1., 1., 1.]])"
            ]
          },
          "execution_count": 7,
          "metadata": {},
          "output_type": "execute_result"
        }
      ],
      "source": [
        "#creating ones with shapes\n",
        "x = np.ones(shape=(4,3))\n",
        "x"
      ]
    },
    {
      "cell_type": "code",
      "execution_count": null,
      "metadata": {
        "colab": {
          "base_uri": "https://localhost:8080/"
        },
        "id": "-E4sECMoNqtF",
        "outputId": "1421a9d4-3d82-453a-d6b0-54103ef9550a"
      },
      "outputs": [
        {
          "name": "stdout",
          "output_type": "stream",
          "text": [
            "\n",
            "Original array:\n",
            " [[50 45 56 78]\n",
            " [78 89 59 90]\n",
            " [89 78 69 70]\n",
            " [67 69 89 70]\n",
            " [90 89 80 84]\n",
            " [89 59 90 78]]\n",
            "Reshaped array:\n",
            " [[[50 45]\n",
            "  [56 78]\n",
            "  [78 89]\n",
            "  [59 90]\n",
            "  [89 78]\n",
            "  [69 70]]\n",
            "\n",
            " [[67 69]\n",
            "  [89 70]\n",
            "  [90 89]\n",
            "  [80 84]\n",
            "  [89 59]\n",
            "  [90 78]]]\n",
            "(2, 6, 2)\n",
            "(6, 4)\n"
          ]
        }
      ],
      "source": [
        "import numpy as np\n",
        "arr = np.array([[50, 45, 56, 78],[78, 89, 59, 90],[89, 78, 69, 70],[67, 69, 89, 70],[90,89, 80, 84],[89, 59, 90, 78]])\n",
        "arr.shape\n",
        "\n",
        "newarr = arr.reshape(2, 6, 2)\n",
        "\n",
        "print (\"\\nOriginal array:\\n\", arr)\n",
        "print (\"Reshaped array:\\n\", newarr)\n",
        "print(newarr.shape)\n",
        "print(arr.shape)"
      ]
    },
    {
      "cell_type": "code",
      "execution_count": null,
      "metadata": {
        "colab": {
          "base_uri": "https://localhost:8080/"
        },
        "id": "lmIB-sJOSPJQ",
        "outputId": "5d138820-40ba-42f1-82c3-ff52504fbd2e"
      },
      "outputs": [
        {
          "name": "stdout",
          "output_type": "stream",
          "text": [
            "\n",
            "Original array:\n",
            " [[ 0  2  3]\n",
            " [ 7  5  6]\n",
            " [10 12 13]]\n",
            "Fattened array:\n",
            " [ 0  2  3  7  5  6 10 12 13]\n"
          ]
        }
      ],
      "source": [
        "# Flatten array\n",
        "arr = np.array([[0, 2, 3], [7, 5, 6], [10,12,13]])\n",
        "flatarr = arr.flatten()\n",
        "\n",
        "print (\"\\nOriginal array:\\n\", arr)\n",
        "print (\"Fattened array:\\n\", flatarr)"
      ]
    },
    {
      "cell_type": "code",
      "execution_count": null,
      "metadata": {
        "colab": {
          "base_uri": "https://localhost:8080/"
        },
        "id": "5bv7ComhUOix",
        "outputId": "21dd0ca7-1474-4779-e9d7-8ce164bb8a15"
      },
      "outputs": [
        {
          "name": "stdout",
          "output_type": "stream",
          "text": [
            "HELLO BABY\n"
          ]
        }
      ],
      "source": [
        "word = \"Hello dear\"\n",
        "print (word.replace(\"dear\", \"Baby\").upper()) #replacing dear and using uppercase"
      ]
    },
    {
      "cell_type": "code",
      "execution_count": null,
      "metadata": {
        "colab": {
          "base_uri": "https://localhost:8080/"
        },
        "id": "_TDODOvuWnsQ",
        "outputId": "20b9c4b7-db56-46c8-c5cb-7bf28a4316b1"
      },
      "outputs": [
        {
          "data": {
            "text/plain": [
              "array([[ 0,  1,  2,  3],\n",
              "       [ 4,  5,  6,  7],\n",
              "       [ 8,  9, 10, 11],\n",
              "       [12, 13, 14, 15]])"
            ]
          },
          "execution_count": 28,
          "metadata": {},
          "output_type": "execute_result"
        }
      ],
      "source": [
        "arr = np.arange(16) #reshaping to 4 by 4\n",
        "arr\n",
        "np.reshape(arr, (4,4))"
      ]
    },
    {
      "cell_type": "code",
      "execution_count": null,
      "metadata": {
        "colab": {
          "base_uri": "https://localhost:8080/"
        },
        "id": "k7fHvEx8fyFS",
        "outputId": "a0dfa244-1406-45eb-a4ae-2f24ad093f48"
      },
      "outputs": [
        {
          "name": "stdout",
          "output_type": "stream",
          "text": [
            "[ 2  3  7  8 10 12 13 22 23 25 41 46 54]\n"
          ]
        },
        {
          "data": {
            "text/plain": [
              "array([ 2,  3,  7,  8, 12, 13, 22, 23, 25, 41, 46, 54])"
            ]
          },
          "execution_count": 41,
          "metadata": {},
          "output_type": "execute_result"
        }
      ],
      "source": [
        "L = [10, 2, 7, 8, 3, 22, 54, 12, 13, 46, 23, 25, 41]\n",
        "arr = np.array(L) #converting list to array\n",
        "arr\n",
        "p= np.sort(arr) #sorting accordingly\n",
        "print(p)\n",
        "np.delete(p,4)  #removing the fifth element"
      ]
    },
    {
      "cell_type": "code",
      "execution_count": null,
      "metadata": {
        "colab": {
          "base_uri": "https://localhost:8080/"
        },
        "id": "Vj-tQyJVk8W5",
        "outputId": "08aed49e-53cd-492c-fd7c-5f51506c8c37"
      },
      "outputs": [
        {
          "data": {
            "text/plain": [
              "array([[10,  2,  7,  8,  3, 22, 54],\n",
              "       [12, 13, 46, 23, 25, 41, 53]])"
            ]
          },
          "execution_count": 45,
          "metadata": {},
          "output_type": "execute_result"
        }
      ],
      "source": [
        "L = [10, 2, 7, 8, 3, 22, 54, 12, 13, 46, 23, 25, 41]\n",
        "arr = np.array(L)\n",
        "arr = np.append(arr,53) #adding 53 to the array\n",
        "arr\n",
        "newarr = np.reshape(arr, (2,7)) #reshaping the array\n",
        "newarr"
      ]
    },
    {
      "cell_type": "code",
      "execution_count": null,
      "metadata": {
        "colab": {
          "base_uri": "https://localhost:8080/"
        },
        "id": "a5mvWgXvowGC",
        "outputId": "4fc6d355-9189-4695-9a0c-0f7ecaf3ed1a"
      },
      "outputs": [
        {
          "data": {
            "text/plain": [
              "array([[10, 20],\n",
              "       [30, 40]])"
            ]
          },
          "execution_count": 51,
          "metadata": {},
          "output_type": "execute_result"
        }
      ],
      "source": [
        "arr = np.array([10,20,30,40])\n",
        "np.ndim(arr)\n",
        "np.shape(arr)\n",
        "np.reshape(arr,(2,2))"
      ]
    },
    {
      "cell_type": "code",
      "execution_count": null,
      "metadata": {
        "colab": {
          "base_uri": "https://localhost:8080/"
        },
        "id": "Z9Wu1jY4qcVs",
        "outputId": "c4f88d64-16ad-40e9-ffef-8d660ce597f5"
      },
      "outputs": [
        {
          "name": "stdout",
          "output_type": "stream",
          "text": [
            "7\n",
            "10\n"
          ]
        }
      ],
      "source": [
        "#Nested list indexing\n",
        "L = [[1,2,3,4], [5,6,7,8], [9,10,11,12]]\n",
        "print(L[1][2]) #index 1, element 3\n",
        "print(L[2][1]) #index 2, element 2\n"
      ]
    },
    {
      "cell_type": "code",
      "execution_count": null,
      "metadata": {
        "colab": {
          "background_save": true,
          "base_uri": "https://localhost:8080/"
        },
        "id": "vZO1QTC2tCGZ",
        "outputId": "df37d596-96d2-4e15-f4bb-054aeb47be1b"
      },
      "outputs": [
        {
          "name": "stdout",
          "output_type": "stream",
          "text": [
            "[[ 0  1  2  3  4]\n",
            " [ 5  6  7  8  9]\n",
            " [10 11 12 13 14]]\n"
          ]
        },
        {
          "data": {
            "text/plain": [
              "13"
            ]
          },
          "execution_count": 66,
          "metadata": {},
          "output_type": "execute_result"
        }
      ],
      "source": [
        "arr = np.arange(15)\n",
        "p = arr\n",
        "c = np.reshape(p, (3,5))\n",
        "print(c)\n",
        "c[2, 3]"
      ]
    },
    {
      "cell_type": "code",
      "execution_count": null,
      "metadata": {
        "id": "cbOnVdCE5sz1"
      },
      "outputs": [],
      "source": []
    }
  ],
  "metadata": {
    "colab": {
      "provenance": []
    },
    "kernelspec": {
      "display_name": "Python 3",
      "name": "python3"
    },
    "language_info": {
      "name": "python"
    }
  },
  "nbformat": 4,
  "nbformat_minor": 0
}